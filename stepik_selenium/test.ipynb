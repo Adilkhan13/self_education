{
 "cells": [
  {
   "cell_type": "code",
   "execution_count": 76,
   "id": "18d6dd42",
   "metadata": {},
   "outputs": [],
   "source": [
    "from selenium import webdriver\n",
    "import math\n",
    "from time import sleep\n",
    "import traceback\n",
    "\n",
    "from selenium.webdriver.common.by import By\n",
    "from selenium.webdriver.support.ui import WebDriverWait\n",
    "from selenium.webdriver.support import expected_conditions as EC\n",
    "from selenium.webdriver.common.action_chains import ActionChains\n",
    "\n"
   ]
  },
  {
   "cell_type": "code",
   "execution_count": 118,
   "id": "05a7b193",
   "metadata": {},
   "outputs": [
    {
     "name": "stderr",
     "output_type": "stream",
     "text": [
      "<ipython-input-118-1c4319e5065d>:2: DeprecationWarning: executable_path has been deprecated, please pass in a Service object\n",
      "  driver = webdriver.Chrome(chrome_driver_path)\n"
     ]
    },
    {
     "name": "stdout",
     "output_type": "stream",
     "text": [
      "Начало страницы\n",
      "Ожидание прошло успешно\n",
      "элементы схвачены\n",
      "Начало цикла\n"
     ]
    },
    {
     "name": "stderr",
     "output_type": "stream",
     "text": [
      "<ipython-input-118-1c4319e5065d>:32: DeprecationWarning: find_element_by_css_selector is deprecated. Please use find_element(by=By.CSS_SELECTOR, value=css_selector) instead\n",
      "  data.append(driver.find_element_by_css_selector('.font-weight-600.inline-block.ml10.pt5.align-top.text-primary').text)\n"
     ]
    },
    {
     "name": "stdout",
     "output_type": "stream",
     "text": [
      "Начало цикла\n",
      "Начало цикла\n",
      "Начало цикла\n",
      "Начало цикла\n",
      "Начало цикла\n",
      "Начало цикла\n",
      "Начало цикла\n",
      "Начало цикла\n",
      "Начало страницы\n",
      "Ожидание прошло успешно\n",
      "элементы схвачены\n",
      "Начало цикла\n",
      "Начало цикла\n",
      "Начало цикла\n",
      "Начало цикла\n",
      "Начало цикла\n",
      "Начало цикла\n",
      "Начало цикла\n",
      "Начало цикла\n",
      "Начало цикла\n",
      "Начало страницы\n",
      "Ожидание прошло успешно\n",
      "элементы схвачены\n",
      "Начало цикла\n",
      "Ошибка:\n",
      " Traceback (most recent call last):\n",
      "  File \"<ipython-input-118-1c4319e5065d>\", line 32, in <module>\n",
      "    data.append(driver.find_element_by_css_selector('.font-weight-600.inline-block.ml10.pt5.align-top.text-primary').text)\n",
      "  File \"C:\\Users\\adil\\anaconda3\\lib\\site-packages\\selenium\\webdriver\\remote\\webdriver.py\", line 809, in find_element_by_css_selector\n",
      "    return self.find_element(by=By.CSS_SELECTOR, value=css_selector)\n",
      "  File \"C:\\Users\\adil\\anaconda3\\lib\\site-packages\\selenium\\webdriver\\remote\\webdriver.py\", line 1248, in find_element\n",
      "    return self.execute(Command.FIND_ELEMENT, {\n",
      "  File \"C:\\Users\\adil\\anaconda3\\lib\\site-packages\\selenium\\webdriver\\remote\\webdriver.py\", line 425, in execute\n",
      "    self.error_handler.check_response(response)\n",
      "  File \"C:\\Users\\adil\\anaconda3\\lib\\site-packages\\selenium\\webdriver\\remote\\errorhandler.py\", line 247, in check_response\n",
      "    raise exception_class(message, screen, stacktrace)\n",
      "selenium.common.exceptions.WebDriverException: Message: chrome not reachable\n",
      "  (Session info: chrome=99.0.4844.82)\n",
      "Stacktrace:\n",
      "Backtrace:\n",
      "\tOrdinal0 [0x016269A3+2582947]\n",
      "\tOrdinal0 [0x015BA6D1+2139857]\n",
      "\tOrdinal0 [0x014B3960+1063264]\n",
      "\tOrdinal0 [0x014A8092+1015954]\n",
      "\tOrdinal0 [0x014A8DF5+1019381]\n",
      "\tOrdinal0 [0x014AA102+1024258]\n",
      "\tOrdinal0 [0x014A3DE9+998889]\n",
      "\tOrdinal0 [0x014B4DD0+1068496]\n",
      "\tOrdinal0 [0x01507B12+1407762]\n",
      "\tOrdinal0 [0x014F8366+1344358]\n",
      "\tOrdinal0 [0x014D5176+1200502]\n",
      "\tOrdinal0 [0x014D6066+1204326]\n",
      "\tGetHandleVerifier [0x017CBE02+1675858]\n",
      "\tGetHandleVerifier [0x0188036C+2414524]\n",
      "\tGetHandleVerifier [0x016BBB01+560977]\n",
      "\tGetHandleVerifier [0x016BA8D3+556323]\n",
      "\tOrdinal0 [0x015C020E+2163214]\n",
      "\tOrdinal0 [0x015C5078+2183288]\n",
      "\tOrdinal0 [0x015C51C0+2183616]\n",
      "\tOrdinal0 [0x015CEE1C+2223644]\n",
      "\tBaseThreadInitThunk [0x74F00419+25]\n",
      "\tRtlGetAppContainerNamedObjectPath [0x76F272FD+237]\n",
      "\tRtlGetAppContainerNamedObjectPath [0x76F272CD+189]\n",
      "\n",
      "\n",
      "['HESS URALSK, ТОО', 'HESS URALSK, ТОО', 'HESS URALSK, ТОО', 'HESS URALSK, ТОО', 'HESS URALSK, ТОО', 'HESS URALSK, ТОО', 'МУГАЛЖАР НЕФТЕСТРОЙ, ТОО', 'МУГАЛЖАР НЕФТЕСТРОЙ, ТОО', 'МУГАЛЖАР НЕФТЕСТРОЙ, ТОО', 'МУГАЛЖАР НЕФТЕСТРОЙ, ТОО', 'HESS URALSK, ТОО', 'HESS URALSK, ТОО', 'HESS URALSK, ТОО', 'HESS URALSK, ТОО', 'HESS URALSK, ТОО', 'МУГАЛЖАР НЕФТЕСТРОЙ, ТОО', 'МУГАЛЖАР НЕФТЕСТРОЙ, ТОО', 'МУГАЛЖАР НЕФТЕСТРОЙ, ТОО']\n"
     ]
    }
   ],
   "source": [
    "chrome_driver_path = r\"G:\\chromedriver_win32\\chromedriver.exe\"\n",
    "driver = webdriver.Chrome(chrome_driver_path)\n",
    "driver.set_window_size(1920,1080)\n",
    "data = []\n",
    "\n",
    "try:\n",
    "    link = 'https://material.kz/products'\n",
    "    driver.get(link)\n",
    "    while True:\n",
    "        print('Начало страницы')\n",
    "        driver.execute_script(\"window.scrollTo(0, -1000)\")\n",
    "        WebDriverWait(driver, 5).until(\n",
    "                        EC.element_to_be_clickable((By.CSS_SELECTOR, '.col-md-12.pl-1.pr0 .product-inst.text-14.text-gray'))\n",
    "                     )\n",
    "        print('Ожидание прошло успешно')\n",
    "        elements = driver.find_elements(By.CSS_SELECTOR,'.col-md-12.pl-1.pr0 .product-inst.text-14.text-gray')\n",
    "        print('элементы схвачены')\n",
    "        scroll_value = 0\n",
    "        for i in range(len(elements)):\n",
    "            print('Начало цикла')\n",
    "            if i == 2:\n",
    "                scroll_value = 550\n",
    "            if i == 5:\n",
    "                scroll_value = 550    \n",
    "            driver.execute_script(f\"window.scrollBy(0, {scroll_value});\")\n",
    "            WebDriverWait(driver, 5).until(\n",
    "                        EC.element_to_be_clickable((By.CSS_SELECTOR, '.col-md-12.pl-1.pr0 .product-inst.text-14.text-gray'))\n",
    "                     )\n",
    "            elements = driver.find_elements(By.CSS_SELECTOR,'.col-md-12.pl-1.pr0 .product-inst.text-14.text-gray')\n",
    "            el = elements[i]\n",
    "            el.click()\n",
    "            data.append(driver.find_element_by_css_selector('.font-weight-600.inline-block.ml10.pt5.align-top.text-primary').text)\n",
    "            driver.execute_script(\"window.history.go(-1)\")\n",
    "            scroll_value = 0\n",
    "        driver.execute_script(\"window.scrollTo(0, -1000)\")\n",
    "        driver.find_element(By.CSS_SELECTOR,\"[rel = 'next']\").click()\n",
    "        sleep(5)\n",
    "        \n",
    "except Exception as e:\n",
    "    print('Ошибка:\\n', traceback.format_exc())\n",
    "    \n",
    "finally:\n",
    "    sleep(5)\n",
    "    driver.quit()\n",
    "    print(data)"
   ]
  },
  {
   "cell_type": "code",
   "execution_count": 71,
   "id": "cd5294b1",
   "metadata": {},
   "outputs": [
    {
     "data": {
      "text/plain": [
       "['HESS URALSK, ТОО',\n",
       " 'HESS URALSK, ТОО',\n",
       " 'HESS URALSK, ТОО',\n",
       " 'HESS URALSK, ТОО',\n",
       " 'HESS URALSK, ТОО',\n",
       " 'HESS URALSK, ТОО',\n",
       " 'МУГАЛЖАР НЕФТЕСТРОЙ, ТОО',\n",
       " 'МУГАЛЖАР НЕФТЕСТРОЙ, ТОО',\n",
       " 'МУГАЛЖАР НЕФТЕСТРОЙ, ТОО']"
      ]
     },
     "execution_count": 71,
     "metadata": {},
     "output_type": "execute_result"
    }
   ],
   "source": [
    "data"
   ]
  },
  {
   "cell_type": "code",
   "execution_count": 53,
   "id": "4ed79ab0",
   "metadata": {},
   "outputs": [
    {
     "name": "stderr",
     "output_type": "stream",
     "text": [
      "<ipython-input-53-dc423bcdce27>:2: DeprecationWarning: executable_path has been deprecated, please pass in a Service object\n",
      "  driver = webdriver.Chrome(chrome_driver_path)\n"
     ]
    }
   ],
   "source": [
    "chrome_driver_path = r\"G:\\chromedriver_win32\\chromedriver.exe\"\n",
    "driver = webdriver.Chrome(chrome_driver_path)\n",
    "\n"
   ]
  },
  {
   "cell_type": "code",
   "execution_count": 33,
   "id": "6d21951d",
   "metadata": {},
   "outputs": [],
   "source": []
  },
  {
   "cell_type": "code",
   "execution_count": 34,
   "id": "f8776b0d",
   "metadata": {},
   "outputs": [],
   "source": [
    "button = WebDriverWait(driver, 5).until(\n",
    "        EC.presence_of_element_located((By.ID, f'myCarousel-{0}'))\n",
    "    )\n",
    "button.click()"
   ]
  },
  {
   "cell_type": "code",
   "execution_count": null,
   "id": "60cece3d",
   "metadata": {},
   "outputs": [],
   "source": [
    "driver.find_elements_by_css_selector('.col-md-12.pl-1.pr0 .product-inst.text-14.text-gray')"
   ]
  },
  {
   "cell_type": "code",
   "execution_count": 50,
   "id": "eb41c194",
   "metadata": {},
   "outputs": [
    {
     "name": "stderr",
     "output_type": "stream",
     "text": [
      "<ipython-input-50-a1dce50d5d83>:2: DeprecationWarning: executable_path has been deprecated, please pass in a Service object\n",
      "  driver = webdriver.Chrome(chrome_driver_path)\n"
     ]
    }
   ],
   "source": [
    "\n",
    "chrome_driver_path = r\"G:\\chromedriver_win32\\chromedriver.exe\"\n",
    "driver = webdriver.Chrome(chrome_driver_path)\n",
    "driver.get(link)\n",
    "WebDriverWait(driver, 15).until(\n",
    "        EC.element_to_be_clickable((By.ID, f'myCarousel-{0}'))\n",
    "    )\n",
    "\n"
   ]
  },
  {
   "cell_type": "code",
   "execution_count": 36,
   "id": "0773e588",
   "metadata": {},
   "outputs": [],
   "source": [
    "button = WebDriverWait(driver, 5).until(\n",
    "        EC.presence_of_element_located((By.ID, f'myCarousel-{0}'))\n",
    "    )\n",
    "button.click()"
   ]
  },
  {
   "cell_type": "code",
   "execution_count": 44,
   "id": "0aba9b94",
   "metadata": {},
   "outputs": [
    {
     "ename": "StaleElementReferenceException",
     "evalue": "Message: stale element reference: element is not attached to the page document\n  (Session info: chrome=99.0.4844.82)\nStacktrace:\nBacktrace:\n\tOrdinal0 [0x016269A3+2582947]\n\tOrdinal0 [0x015BA6D1+2139857]\n\tOrdinal0 [0x014B3A98+1063576]\n\tOrdinal0 [0x014B62B7+1073847]\n\tOrdinal0 [0x014B617E+1073534]\n\tOrdinal0 [0x014B63F0+1074160]\n\tOrdinal0 [0x014E17FC+1251324]\n\tOrdinal0 [0x014D6A76+1206902]\n\tOrdinal0 [0x014F854C+1344844]\n\tOrdinal0 [0x014D6524+1205540]\n\tOrdinal0 [0x014F86A4+1345188]\n\tOrdinal0 [0x0150834A+1409866]\n\tOrdinal0 [0x014F8366+1344358]\n\tOrdinal0 [0x014D5176+1200502]\n\tOrdinal0 [0x014D6066+1204326]\n\tGetHandleVerifier [0x017CBE02+1675858]\n\tGetHandleVerifier [0x0188036C+2414524]\n\tGetHandleVerifier [0x016BBB01+560977]\n\tGetHandleVerifier [0x016BA8D3+556323]\n\tOrdinal0 [0x015C020E+2163214]\n\tOrdinal0 [0x015C5078+2183288]\n\tOrdinal0 [0x015C51C0+2183616]\n\tOrdinal0 [0x015CEE1C+2223644]\n\tBaseThreadInitThunk [0x74F00419+25]\n\tRtlGetAppContainerNamedObjectPath [0x76F272FD+237]\n\tRtlGetAppContainerNamedObjectPath [0x76F272CD+189]\n",
     "output_type": "error",
     "traceback": [
      "\u001b[1;31m---------------------------------------------------------------------------\u001b[0m",
      "\u001b[1;31mStaleElementReferenceException\u001b[0m            Traceback (most recent call last)",
      "\u001b[1;32m<ipython-input-44-27831f0cd0b3>\u001b[0m in \u001b[0;36m<module>\u001b[1;34m\u001b[0m\n\u001b[1;32m----> 1\u001b[1;33m \u001b[0mbutton\u001b[0m\u001b[1;33m.\u001b[0m\u001b[0mclick\u001b[0m\u001b[1;33m(\u001b[0m\u001b[1;33m)\u001b[0m\u001b[1;33m\u001b[0m\u001b[1;33m\u001b[0m\u001b[0m\n\u001b[0m",
      "\u001b[1;32m~\\anaconda3\\lib\\site-packages\\selenium\\webdriver\\remote\\webelement.py\u001b[0m in \u001b[0;36mclick\u001b[1;34m(self)\u001b[0m\n\u001b[0;32m     79\u001b[0m     \u001b[1;32mdef\u001b[0m \u001b[0mclick\u001b[0m\u001b[1;33m(\u001b[0m\u001b[0mself\u001b[0m\u001b[1;33m)\u001b[0m \u001b[1;33m->\u001b[0m \u001b[1;32mNone\u001b[0m\u001b[1;33m:\u001b[0m\u001b[1;33m\u001b[0m\u001b[1;33m\u001b[0m\u001b[0m\n\u001b[0;32m     80\u001b[0m         \u001b[1;34m\"\"\"Clicks the element.\"\"\"\u001b[0m\u001b[1;33m\u001b[0m\u001b[1;33m\u001b[0m\u001b[0m\n\u001b[1;32m---> 81\u001b[1;33m         \u001b[0mself\u001b[0m\u001b[1;33m.\u001b[0m\u001b[0m_execute\u001b[0m\u001b[1;33m(\u001b[0m\u001b[0mCommand\u001b[0m\u001b[1;33m.\u001b[0m\u001b[0mCLICK_ELEMENT\u001b[0m\u001b[1;33m)\u001b[0m\u001b[1;33m\u001b[0m\u001b[1;33m\u001b[0m\u001b[0m\n\u001b[0m\u001b[0;32m     82\u001b[0m \u001b[1;33m\u001b[0m\u001b[0m\n\u001b[0;32m     83\u001b[0m     \u001b[1;32mdef\u001b[0m \u001b[0msubmit\u001b[0m\u001b[1;33m(\u001b[0m\u001b[0mself\u001b[0m\u001b[1;33m)\u001b[0m\u001b[1;33m:\u001b[0m\u001b[1;33m\u001b[0m\u001b[1;33m\u001b[0m\u001b[0m\n",
      "\u001b[1;32m~\\anaconda3\\lib\\site-packages\\selenium\\webdriver\\remote\\webelement.py\u001b[0m in \u001b[0;36m_execute\u001b[1;34m(self, command, params)\u001b[0m\n\u001b[0;32m    708\u001b[0m             \u001b[0mparams\u001b[0m \u001b[1;33m=\u001b[0m \u001b[1;33m{\u001b[0m\u001b[1;33m}\u001b[0m\u001b[1;33m\u001b[0m\u001b[1;33m\u001b[0m\u001b[0m\n\u001b[0;32m    709\u001b[0m         \u001b[0mparams\u001b[0m\u001b[1;33m[\u001b[0m\u001b[1;34m'id'\u001b[0m\u001b[1;33m]\u001b[0m \u001b[1;33m=\u001b[0m \u001b[0mself\u001b[0m\u001b[1;33m.\u001b[0m\u001b[0m_id\u001b[0m\u001b[1;33m\u001b[0m\u001b[1;33m\u001b[0m\u001b[0m\n\u001b[1;32m--> 710\u001b[1;33m         \u001b[1;32mreturn\u001b[0m \u001b[0mself\u001b[0m\u001b[1;33m.\u001b[0m\u001b[0m_parent\u001b[0m\u001b[1;33m.\u001b[0m\u001b[0mexecute\u001b[0m\u001b[1;33m(\u001b[0m\u001b[0mcommand\u001b[0m\u001b[1;33m,\u001b[0m \u001b[0mparams\u001b[0m\u001b[1;33m)\u001b[0m\u001b[1;33m\u001b[0m\u001b[1;33m\u001b[0m\u001b[0m\n\u001b[0m\u001b[0;32m    711\u001b[0m \u001b[1;33m\u001b[0m\u001b[0m\n\u001b[0;32m    712\u001b[0m     \u001b[1;32mdef\u001b[0m \u001b[0mfind_element\u001b[0m\u001b[1;33m(\u001b[0m\u001b[0mself\u001b[0m\u001b[1;33m,\u001b[0m \u001b[0mby\u001b[0m\u001b[1;33m=\u001b[0m\u001b[0mBy\u001b[0m\u001b[1;33m.\u001b[0m\u001b[0mID\u001b[0m\u001b[1;33m,\u001b[0m \u001b[0mvalue\u001b[0m\u001b[1;33m=\u001b[0m\u001b[1;32mNone\u001b[0m\u001b[1;33m)\u001b[0m\u001b[1;33m:\u001b[0m\u001b[1;33m\u001b[0m\u001b[1;33m\u001b[0m\u001b[0m\n",
      "\u001b[1;32m~\\anaconda3\\lib\\site-packages\\selenium\\webdriver\\remote\\webdriver.py\u001b[0m in \u001b[0;36mexecute\u001b[1;34m(self, driver_command, params)\u001b[0m\n\u001b[0;32m    423\u001b[0m         \u001b[0mresponse\u001b[0m \u001b[1;33m=\u001b[0m \u001b[0mself\u001b[0m\u001b[1;33m.\u001b[0m\u001b[0mcommand_executor\u001b[0m\u001b[1;33m.\u001b[0m\u001b[0mexecute\u001b[0m\u001b[1;33m(\u001b[0m\u001b[0mdriver_command\u001b[0m\u001b[1;33m,\u001b[0m \u001b[0mparams\u001b[0m\u001b[1;33m)\u001b[0m\u001b[1;33m\u001b[0m\u001b[1;33m\u001b[0m\u001b[0m\n\u001b[0;32m    424\u001b[0m         \u001b[1;32mif\u001b[0m \u001b[0mresponse\u001b[0m\u001b[1;33m:\u001b[0m\u001b[1;33m\u001b[0m\u001b[1;33m\u001b[0m\u001b[0m\n\u001b[1;32m--> 425\u001b[1;33m             \u001b[0mself\u001b[0m\u001b[1;33m.\u001b[0m\u001b[0merror_handler\u001b[0m\u001b[1;33m.\u001b[0m\u001b[0mcheck_response\u001b[0m\u001b[1;33m(\u001b[0m\u001b[0mresponse\u001b[0m\u001b[1;33m)\u001b[0m\u001b[1;33m\u001b[0m\u001b[1;33m\u001b[0m\u001b[0m\n\u001b[0m\u001b[0;32m    426\u001b[0m             response['value'] = self._unwrap_value(\n\u001b[0;32m    427\u001b[0m                 response.get('value', None))\n",
      "\u001b[1;32m~\\anaconda3\\lib\\site-packages\\selenium\\webdriver\\remote\\errorhandler.py\u001b[0m in \u001b[0;36mcheck_response\u001b[1;34m(self, response)\u001b[0m\n\u001b[0;32m    245\u001b[0m                 \u001b[0malert_text\u001b[0m \u001b[1;33m=\u001b[0m \u001b[0mvalue\u001b[0m\u001b[1;33m[\u001b[0m\u001b[1;34m'alert'\u001b[0m\u001b[1;33m]\u001b[0m\u001b[1;33m.\u001b[0m\u001b[0mget\u001b[0m\u001b[1;33m(\u001b[0m\u001b[1;34m'text'\u001b[0m\u001b[1;33m)\u001b[0m\u001b[1;33m\u001b[0m\u001b[1;33m\u001b[0m\u001b[0m\n\u001b[0;32m    246\u001b[0m             \u001b[1;32mraise\u001b[0m \u001b[0mexception_class\u001b[0m\u001b[1;33m(\u001b[0m\u001b[0mmessage\u001b[0m\u001b[1;33m,\u001b[0m \u001b[0mscreen\u001b[0m\u001b[1;33m,\u001b[0m \u001b[0mstacktrace\u001b[0m\u001b[1;33m,\u001b[0m \u001b[0malert_text\u001b[0m\u001b[1;33m)\u001b[0m  \u001b[1;31m# type: ignore[call-arg]  # mypy is not smart enough here\u001b[0m\u001b[1;33m\u001b[0m\u001b[1;33m\u001b[0m\u001b[0m\n\u001b[1;32m--> 247\u001b[1;33m         \u001b[1;32mraise\u001b[0m \u001b[0mexception_class\u001b[0m\u001b[1;33m(\u001b[0m\u001b[0mmessage\u001b[0m\u001b[1;33m,\u001b[0m \u001b[0mscreen\u001b[0m\u001b[1;33m,\u001b[0m \u001b[0mstacktrace\u001b[0m\u001b[1;33m)\u001b[0m\u001b[1;33m\u001b[0m\u001b[1;33m\u001b[0m\u001b[0m\n\u001b[0m\u001b[0;32m    248\u001b[0m \u001b[1;33m\u001b[0m\u001b[0m\n\u001b[0;32m    249\u001b[0m     \u001b[1;32mdef\u001b[0m \u001b[0m_value_or_default\u001b[0m\u001b[1;33m(\u001b[0m\u001b[0mself\u001b[0m\u001b[1;33m,\u001b[0m \u001b[0mobj\u001b[0m\u001b[1;33m:\u001b[0m \u001b[0mMapping\u001b[0m\u001b[1;33m[\u001b[0m\u001b[0m_KT\u001b[0m\u001b[1;33m,\u001b[0m \u001b[0m_VT\u001b[0m\u001b[1;33m]\u001b[0m\u001b[1;33m,\u001b[0m \u001b[0mkey\u001b[0m\u001b[1;33m:\u001b[0m \u001b[0m_KT\u001b[0m\u001b[1;33m,\u001b[0m \u001b[0mdefault\u001b[0m\u001b[1;33m:\u001b[0m \u001b[0m_VT\u001b[0m\u001b[1;33m)\u001b[0m \u001b[1;33m->\u001b[0m \u001b[0m_VT\u001b[0m\u001b[1;33m:\u001b[0m\u001b[1;33m\u001b[0m\u001b[1;33m\u001b[0m\u001b[0m\n",
      "\u001b[1;31mStaleElementReferenceException\u001b[0m: Message: stale element reference: element is not attached to the page document\n  (Session info: chrome=99.0.4844.82)\nStacktrace:\nBacktrace:\n\tOrdinal0 [0x016269A3+2582947]\n\tOrdinal0 [0x015BA6D1+2139857]\n\tOrdinal0 [0x014B3A98+1063576]\n\tOrdinal0 [0x014B62B7+1073847]\n\tOrdinal0 [0x014B617E+1073534]\n\tOrdinal0 [0x014B63F0+1074160]\n\tOrdinal0 [0x014E17FC+1251324]\n\tOrdinal0 [0x014D6A76+1206902]\n\tOrdinal0 [0x014F854C+1344844]\n\tOrdinal0 [0x014D6524+1205540]\n\tOrdinal0 [0x014F86A4+1345188]\n\tOrdinal0 [0x0150834A+1409866]\n\tOrdinal0 [0x014F8366+1344358]\n\tOrdinal0 [0x014D5176+1200502]\n\tOrdinal0 [0x014D6066+1204326]\n\tGetHandleVerifier [0x017CBE02+1675858]\n\tGetHandleVerifier [0x0188036C+2414524]\n\tGetHandleVerifier [0x016BBB01+560977]\n\tGetHandleVerifier [0x016BA8D3+556323]\n\tOrdinal0 [0x015C020E+2163214]\n\tOrdinal0 [0x015C5078+2183288]\n\tOrdinal0 [0x015C51C0+2183616]\n\tOrdinal0 [0x015CEE1C+2223644]\n\tBaseThreadInitThunk [0x74F00419+25]\n\tRtlGetAppContainerNamedObjectPath [0x76F272FD+237]\n\tRtlGetAppContainerNamedObjectPath [0x76F272CD+189]\n"
     ]
    }
   ],
   "source": [
    "button.click()"
   ]
  },
  {
   "cell_type": "code",
   "execution_count": null,
   "id": "6a342acf",
   "metadata": {},
   "outputs": [],
   "source": []
  }
 ],
 "metadata": {
  "kernelspec": {
   "display_name": "Python 3",
   "language": "python",
   "name": "python3"
  },
  "language_info": {
   "codemirror_mode": {
    "name": "ipython",
    "version": 3
   },
   "file_extension": ".py",
   "mimetype": "text/x-python",
   "name": "python",
   "nbconvert_exporter": "python",
   "pygments_lexer": "ipython3",
   "version": "3.8.8"
  }
 },
 "nbformat": 4,
 "nbformat_minor": 5
}
